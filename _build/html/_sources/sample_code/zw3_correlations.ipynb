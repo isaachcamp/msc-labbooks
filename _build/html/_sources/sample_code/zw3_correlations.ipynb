{
 "cells": [
  {
   "cell_type": "markdown",
   "metadata": {},
   "source": [
    "# ZW3 Correlations\n",
    "\n",
    "Initially correlations were done between variance anomalies and both ZW3 magnitude and phase, however this was deemed insufficient since ZW3 is quite mobile. This means that ZW3 events with high magnitudes could occur and affect the storm track strongly locally, but not on the other side of the globe. Therefore, due to the inconsistency of event locations, correlations would be weaker and local influences could go undetected. For this reason, ZW3 events of sufficient magnitude were separated into longitude bins and correlated those ZW3 magnitude time series with variance anomalies found in corresponding longitude bins."
   ]
  },
  {
   "cell_type": "code",
   "execution_count": 2,
   "metadata": {},
   "outputs": [],
   "source": [
    "import xarray as xr\n",
    "import pandas as pd\n",
    "import numpy as np\n",
    "\n",
    "import correlation_spatial_patterns as csp"
   ]
  },
  {
   "cell_type": "code",
   "execution_count": 102,
   "metadata": {},
   "outputs": [],
   "source": [
    "from scipy.stats import spearmanr"
   ]
  },
  {
   "cell_type": "code",
   "execution_count": 93,
   "metadata": {},
   "outputs": [],
   "source": [
    "path_zw3 = \"G:\\\\Isaac\\\\Documents\\\\msc-research\\\\data\\\\indices\\\\\"\n",
    "filename_zw3 = \"zw3index_Goyaletal2022.nc\"\n",
    "zw3 = xr.open_dataset(path_zw3 + filename_zw3)\n",
    "\n",
    "path_anoms = \"G:\\\\Isaac\\\\Documents\\\\msc-research\\\\data\\\\ERA5\\\\daily_data\\\\\"\n",
    "filename_mean_anoms = \"era5_h500_daily_1979_2021_1deg_deseasonalised_bandpass_20S_mon_anoms.nc\"\n",
    "filename_var_anoms = \"era5_h500_daily_1979_2021_1deg_20S_deseasonalised_bandpass_mon_var_anoms.nc\"\n",
    "mean_anoms = xr.open_dataset(path_anoms + filename_mean_anoms)\n",
    "var_anoms = xr.open_dataset(path_anoms + filename_var_anoms)"
   ]
  },
  {
   "cell_type": "code",
   "execution_count": 94,
   "metadata": {},
   "outputs": [],
   "source": [
    "bins = [-180, -150, -120, -90, -60, -30, 0, 30, 60, 90, 120, 150, 180]\n",
    "labels = ['-180:-150', '-150:-120', '-120:-90', '-90:-60', '-60:-30', '-30:0', '0:30', '30:60', '60:90', '90:120', '120:150', '150:180']"
   ]
  },
  {
   "cell_type": "code",
   "execution_count": 106,
   "metadata": {},
   "outputs": [],
   "source": [
    "zw3_upper_half = zw3.where(zw3.zw3index_magnitude > zw3.zw3index_magnitude.median(), drop=True)\n",
    "groups_zw3 = zw3_upper_half.groupby_bins(group=zw3_upper_half.zw3index_phase, bins=bins, labels=labels, right=False, include_lowest=True)"
   ]
  },
  {
   "cell_type": "code",
   "execution_count": 107,
   "metadata": {},
   "outputs": [],
   "source": [
    "groups_anoms = mean_anoms.groupby_bins(group=var_anoms.lon, bins=bins, labels=labels, right=False, include_lowest=True)\n",
    "present_times = {}"
   ]
  },
  {
   "cell_type": "code",
   "execution_count": 108,
   "metadata": {},
   "outputs": [],
   "source": [
    "for lon_group in groups_zw3.groups.keys():\n",
    "    time_list = groups_anoms[lon_group].indexes['time'].strftime(\"%Y-%m\")\n",
    "    present_times[lon_group] = []\n",
    "    for i, time in enumerate(time_list):\n",
    "        if time in groups_zw3[lon_group].indexes['time']:\n",
    "            present_times[lon_group].append(i)\n"
   ]
  },
  {
   "cell_type": "code",
   "execution_count": 109,
   "metadata": {},
   "outputs": [],
   "source": [
    "shape = (var_anoms.lat.size, var_anoms.lon.size)\n",
    "correlations_array = {\"zw3\": np.zeros(shape)}\n",
    "\n",
    "errors = 0\n",
    "\n",
    "for lon_group in groups_zw3.groups.keys():\n",
    "    zw3_time_series_lon_filtered = zw3['zw3index_magnitude'].isel(time=present_times[lon_group])\n",
    "    zw3_time_series_lon_filtered = np.array(zw3_time_series_lon_filtered)\n",
    "    zw3_time_series_lon_filtered_normalised = csp.normalise_sample(zw3_time_series_lon_filtered)\n",
    "\n",
    "    anoms_lon_filtered = groups_anoms[lon_group].isel(time=present_times[lon_group])\n",
    "    coords_array = csp.get_coord_pairs(anoms_lon_filtered)\n",
    "\n",
    "    for coord in coords_array:\n",
    "        anoms_time_series_lon_filtered = np.array(anoms_lon_filtered.sel(lon=coord[0], lat=coord[1])['z'])\n",
    "        anoms_time_series_lon_filtered_normalised = csp.normalise_sample(anoms_time_series_lon_filtered)\n",
    "\n",
    "        #correlation = csp.correlation_two_normalised_samples(\n",
    "        #    zw3_time_series_lon_filtered_normalised,\n",
    "        #    anoms_time_series_lon_filtered_normalised\n",
    "        #    )\n",
    "        \n",
    "        correlation, pval = spearmanr(\n",
    "            zw3_time_series_lon_filtered_normalised,\n",
    "            anoms_time_series_lon_filtered_normalised\n",
    "        )\n",
    "        \n",
    "        i = (np.abs(coord[1]) - 20) * var_anoms.lon.size + (coord[0] + 180)\n",
    "        coord = np.unravel_index(i, correlations_array[\"zw3\"].shape)\n",
    "        if correlations_array[\"zw3\"][coord] == 0:\n",
    "            correlations_array[\"zw3\"][coord] = correlation\n",
    "        else:\n",
    "            errors += 1\n"
   ]
  },
  {
   "cell_type": "code",
   "execution_count": 111,
   "metadata": {},
   "outputs": [
    {
     "data": {
      "text/plain": [
       "0"
      ]
     },
     "execution_count": 111,
     "metadata": {},
     "output_type": "execute_result"
    }
   ],
   "source": [
    "errors"
   ]
  },
  {
   "cell_type": "code",
   "execution_count": 112,
   "metadata": {},
   "outputs": [],
   "source": [
    "csp.write_correlations_netcdf(correlations_array, var_anoms, path_anoms)"
   ]
  }
 ],
 "metadata": {
  "interpreter": {
   "hash": "a5c65a3ac008e2c947875686992a0ba5acd5556fe0f3df9925bb7b491ac92d10"
  },
  "kernelspec": {
   "display_name": "Python 3.10.4",
   "language": "python",
   "name": "python3"
  },
  "language_info": {
   "codemirror_mode": {
    "name": "ipython",
    "version": 3
   },
   "file_extension": ".py",
   "mimetype": "text/x-python",
   "name": "python",
   "nbconvert_exporter": "python",
   "pygments_lexer": "ipython3",
   "version": "3.10.4"
  },
  "orig_nbformat": 4
 },
 "nbformat": 4,
 "nbformat_minor": 2
}

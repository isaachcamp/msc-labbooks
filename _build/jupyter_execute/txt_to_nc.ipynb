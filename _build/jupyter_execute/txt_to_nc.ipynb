{
 "cells": [
  {
   "cell_type": "code",
   "execution_count": 1,
   "metadata": {},
   "outputs": [],
   "source": [
    "import numpy as np\n",
    "import pandas as pd\n",
    "import xarray as xr"
   ]
  },
  {
   "cell_type": "code",
   "execution_count": 2,
   "metadata": {},
   "outputs": [],
   "source": [
    "path = 'G:\\\\Isaac\\\\Documents\\\\msc-research\\\\data\\\\indices\\\\raw_data\\\\'\n",
    "filename = 'soi_noaa.txt'"
   ]
  },
  {
   "cell_type": "code",
   "execution_count": 3,
   "metadata": {},
   "outputs": [],
   "source": [
    "with open(path + filename, 'r') as f:\n",
    "    lines = f.readlines()\n",
    "\n",
    "time_series_list = []\n",
    "\n",
    "for line in lines:\n",
    "    line = line.strip(' \\n').split(' ')[1:]\n",
    "    data_line = [x for x in line if x != '']\n",
    "    time_series_list.append(data_line)"
   ]
  },
  {
   "cell_type": "code",
   "execution_count": 4,
   "metadata": {},
   "outputs": [],
   "source": [
    "data_series = np.array(time_series_list)\n",
    "data_series = np.reshape(data_series, (np.size(data_series),1))\n",
    "data_series = data_series.astype(float)\n",
    "\n",
    "idx = pd.date_range('1979-01-31', periods=np.size(data_series), freq='M')\n",
    "time_series = pd.DataFrame(data_series, index=idx)\n",
    "time_series.rename(columns={0:'SOI'}, inplace=True) \n",
    "time_series.index.rename('time', inplace=True)\n",
    "\n",
    "ts = time_series.to_xarray()"
   ]
  },
  {
   "cell_type": "code",
   "execution_count": 5,
   "metadata": {},
   "outputs": [],
   "source": [
    "ts.attrs = {'frequency':'monthly', \n",
    "            'source':'https://www.cpc.ncep.noaa.gov/data/indices/soi', \n",
    "            'history':'created using \"read_txt_datafile.py\"',\n",
    "            'data range':'Jan 1979 - Dec 2021'\n",
    "            }\n",
    "\n",
    "ts.SOI.attrs = {\n",
    "    'standard_name':'SOI', \n",
    "    'long_name':'Southern Oscillation Index', \n",
    "    'units':'dimensionless',\n",
    "    '_FillValue':-9999.00\n",
    "    }"
   ]
  },
  {
   "cell_type": "code",
   "execution_count": 6,
   "metadata": {},
   "outputs": [
    {
     "name": "stdout",
     "output_type": "stream",
     "text": [
      "<bound method ImplementsDatasetReduce._reduce_method.<locals>.wrapped_func of <xarray.Dataset>\n",
      "Dimensions:  (time: 516)\n",
      "Coordinates:\n",
      "  * time     (time) datetime64[ns] 1979-01-31 1979-02-28 ... 2021-12-31\n",
      "Data variables:\n",
      "    SOI      (time) float64 -0.7 1.6 0.2 -0.2 0.8 1.1 ... 1.0 1.3 1.2 1.6 2.5\n",
      "Attributes:\n",
      "    frequency:   monthly\n",
      "    source:      https://www.cpc.ncep.noaa.gov/data/indices/soi\n",
      "    history:     created using \"read_txt_datafile.py\"\n",
      "    data range:  Jan 1979 - Dec 2021>\n"
     ]
    }
   ],
   "source": [
    "print(ts.var)"
   ]
  },
  {
   "cell_type": "code",
   "execution_count": 7,
   "metadata": {},
   "outputs": [],
   "source": [
    "ts.to_netcdf(\"soi_noaa.nc\")"
   ]
  }
 ],
 "metadata": {
  "language_info": {
   "codemirror_mode": {
    "name": "ipython",
    "version": 3
   },
   "file_extension": ".py",
   "mimetype": "text/x-python",
   "name": "python",
   "nbconvert_exporter": "python",
   "pygments_lexer": "ipython3",
   "version": "3.7.6"
  }
 },
 "nbformat": 4,
 "nbformat_minor": 2
}
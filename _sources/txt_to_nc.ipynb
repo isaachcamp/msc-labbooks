{
 "cells": [
  {
   "cell_type": "code",
   "execution_count": null,
   "metadata": {},
   "outputs": [],
   "source": [
    "import numpy as np\n",
    "import pandas as pd\n",
    "import xarray as xr"
   ]
  },
  {
   "cell_type": "code",
   "execution_count": null,
   "metadata": {},
   "outputs": [],
   "source": [
    "path = 'G:\\\\Isaac\\\\Documents\\\\msc-research\\\\data\\\\indices\\\\raw_data\\\\'\n",
    "filename = 'soi_noaa.txt'"
   ]
  },
  {
   "cell_type": "code",
   "execution_count": null,
   "metadata": {},
   "outputs": [],
   "source": [
    "with open(path + filename, 'r') as f:\n",
    "    lines = f.readlines()\n",
    "\n",
    "time_series_list = []\n",
    "\n",
    "for line in lines:\n",
    "    line = line.strip(' \\n').split(' ')[1:]\n",
    "    data_line = [x for x in line if x != '']\n",
    "    time_series_list.append(data_line)"
   ]
  },
  {
   "cell_type": "code",
   "execution_count": null,
   "metadata": {},
   "outputs": [],
   "source": [
    "data_series = np.array(time_series_list)\n",
    "data_series = np.reshape(data_series, (np.size(data_series),1))\n",
    "data_series = data_series.astype(float)\n",
    "\n",
    "idx = pd.date_range('1979-01-31', periods=np.size(data_series), freq='M')\n",
    "time_series = pd.DataFrame(data_series, index=idx)\n",
    "time_series.rename(columns={0:'SOI'}, inplace=True) \n",
    "time_series.index.rename('time', inplace=True)\n",
    "\n",
    "ts = time_series.to_xarray()"
   ]
  },
  {
   "cell_type": "code",
   "execution_count": null,
   "metadata": {},
   "outputs": [],
   "source": [
    "ts.attrs = {'frequency':'monthly', \n",
    "            'source':'https://www.cpc.ncep.noaa.gov/data/indices/soi', \n",
    "            'history':'created using \"read_txt_datafile.py\"',\n",
    "            'data range':'Jan 1979 - Dec 2021'\n",
    "            }\n",
    "\n",
    "ts.SOI.attrs = {\n",
    "    'standard_name':'SOI', \n",
    "    'long_name':'Southern Oscillation Index', \n",
    "    'units':'dimensionless',\n",
    "    '_FillValue':-9999.00\n",
    "    }"
   ]
  },
  {
   "cell_type": "code",
   "execution_count": null,
   "metadata": {},
   "outputs": [],
   "source": [
    "print(ts.var)"
   ]
  },
  {
   "cell_type": "code",
   "execution_count": null,
   "metadata": {},
   "outputs": [],
   "source": [
    "ts.to_netcdf(\"soi_noaa.nc\")"
   ]
  }
 ],
 "metadata": {
  "language_info": {
   "name": "python"
  },
  "orig_nbformat": 4
 },
 "nbformat": 4,
 "nbformat_minor": 2
}

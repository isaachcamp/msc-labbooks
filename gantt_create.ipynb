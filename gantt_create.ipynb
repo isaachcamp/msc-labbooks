{
 "cells": [
  {
   "cell_type": "code",
   "execution_count": 1,
   "metadata": {},
   "outputs": [],
   "source": [
    "import plotly.figure_factory as ff"
   ]
  },
  {
   "cell_type": "code",
   "execution_count": 9,
   "metadata": {},
   "outputs": [],
   "source": [
    "task1 = \"Finish ERA5 Analysis.\"\n",
    "task2 = \"Write paper on ERA5 Analysis.\"\n",
    "task3 = \"Model Analysis.\"\n",
    "task4 = \"Model Projections.\"\n",
    "task5 = \"Write paper on Model Analysis.\"\n",
    "task6 = \"Thesis write-up.\"\n",
    "\n",
    "df = [dict(Task=task1, Start='2022-05-26', Finish='2022-06-18'),\n",
    "      dict(Task=task2, Start='2022-06-14', Finish='2022-07-08'),\n",
    "      dict(Task=task3, Start='2022-06-21', Finish='2022-09-30'),\n",
    "      dict(Task=task4, Start='2022-09-26', Finish='2022-10-21'),\n",
    "      dict(Task=task5, Start='2022-10-07', Finish='2022-12-02'),\n",
    "      dict(Task=task6, Start='2022-11-28', Finish='2023-02-28')]\n",
    "\n",
    "fig = ff.create_gantt(df,)\n",
    "fig.show()"
   ]
  },
  {
   "cell_type": "markdown",
   "metadata": {},
   "source": [
    "| Task | Details | Period |\n",
    "| --: | :-- | :-- |\n",
    "| Finish ERA5 Analysis. | Finish MCA analysis, seasonally and yearly, with lagged data and rotated EOFs, and calculate correlations between variance and height PCs. | 30th May - 11th June |\n",
    "|  | Change presentation of corr/cov maps and MCA EOFs figures. | 6 - 11th June |\n",
    "|  | FDR Significance testing | 6 - 17th June |\n",
    "| Write paper on ERA5 Analysis. | Describe figures & results. | 13 - 17th June |\n",
    "|  | Discussion of seasonal variability and influence of phenomena. | 20th June - 1st July |\n",
    "|  | Introduction, Conclusion & Abstract | 27th June - 8th July |\n",
    "|  | Literature Review & Back-up/Compare Results with References | 13th June - 8th July |\n",
    "| Model Analysis | Gather set of 20 models and research model background. | 11 - 29th July |\n",
    "|  | Write procedure that can be executed in Raapoi & run procedure. | 25th July - 5th August |\n",
    "|  | Analyse results & Diagnose Biases | 8th August - 30th Sept |\n",
    "| Model Projections | Develop analysis procedure to identify whether any consensus holds. | 26th Sept - 7th Oct |\n",
    "|  | Apply procedures & analyse results. | 10 - 21st Oct |\n",
    "| Write paper on Model Analysis | Describe figures & results. | 10 - 28th Oct |\n",
    "|  | Discussion of comparisons with ERA5 and biases. | 24th Oct - 18th Nov |\n",
    "|  | Introduction, Conclusion & Abstract | 14th Nov - 2nd Dec |\n",
    "|  | Literature Review & Back-up/Compare Results with References | 10th Oct - 2nd Dec |"
   ]
  }
 ],
 "metadata": {
  "interpreter": {
   "hash": "6eeca17d860b371791fc1a643d8225b8dffc4456b3d25e326742552ec0837791"
  },
  "kernelspec": {
   "display_name": "Python 3.10.4",
   "language": "python",
   "name": "python3"
  },
  "language_info": {
   "codemirror_mode": {
    "name": "ipython",
    "version": 3
   },
   "file_extension": ".py",
   "mimetype": "text/x-python",
   "name": "python",
   "nbconvert_exporter": "python",
   "pygments_lexer": "ipython3",
   "version": "3.10.4"
  },
  "orig_nbformat": 4
 },
 "nbformat": 4,
 "nbformat_minor": 2
}
